{
 "cells": [
  {
   "cell_type": "markdown",
   "id": "coated-fraud",
   "metadata": {},
   "source": [
    "# Bonneville basin Landsat 8 timelapse \n",
    "## Adapted from Radwin, Bowen 2021\n",
    "## Instructions:\n",
    "## Run all cells and wait for annotated gif to appear. At first a link will appear, but ignore the link. Once the code is finished running two versions of the gif will be downloaded: one annotated and one plain. \n",
    "\n",
    "### Adjust the start/end dates as desired, but not earlier than 2013 as Landsat 8 was launched on 11 Feb, 2013\n",
    "### Scenes are sorted by CLOUD_COVER but the CFMask algorithm has difficulties over the BB, so many scenes with low cloud scores are actually quite cloudy.\n",
    "\n",
    "# Red = Halite, Green = Gypsum, and Blue = Carbonates (lacustrine)"
   ]
  },
  {
   "cell_type": "code",
   "execution_count": 222,
   "id": "amino-request",
   "metadata": {
    "ExecuteTime": {
     "end_time": "2021-03-08T22:51:40.608424Z",
     "start_time": "2021-03-08T22:51:40.600422Z"
    }
   },
   "outputs": [],
   "source": [
    "##geemap.update_package()\n",
    "import os\n",
    "import ee\n",
    "import geemap\n",
    "import ipywidgets as widgets"
   ]
  },
  {
   "cell_type": "code",
   "execution_count": 223,
   "id": "increased-worthy",
   "metadata": {
    "ExecuteTime": {
     "end_time": "2021-03-08T22:51:40.623927Z",
     "start_time": "2021-03-08T22:51:40.610424Z"
    },
    "scrolled": true
   },
   "outputs": [],
   "source": [
    "import os\n",
    "out_dir = os.path.join(os.path.expanduser(\"~\"), 'Downloads')\n",
    "if not os.path.exists(out_dir):\n",
    "    os.makedirs(out_dir)"
   ]
  },
  {
   "cell_type": "code",
   "execution_count": 224,
   "id": "consolidated-sequence",
   "metadata": {
    "ExecuteTime": {
     "end_time": "2021-03-08T22:51:40.654932Z",
     "start_time": "2021-03-08T22:51:40.625926Z"
    }
   },
   "outputs": [],
   "source": [
    "style = {'description_width': 'initial'}\n",
    "start_year = widgets.IntSlider(description='Start Year:', value=2018, min=2013, max=2020, style=style)\n",
    "end_year = widgets.IntSlider(description='End Year:', value=2020, min=2013, max=2021, style=style)\n",
    "start_month = widgets.IntSlider(description='Start Month:', value=4, min=1, max=12, style=style)\n",
    "end_month = widgets.IntSlider(description='End Month:', value=10, min=1, max=12, style=style)\n",
    "cloud_thresh = widgets.IntSlider(description='Cloud % Threshold:', value=30, min=1, max=100, style=style)"
   ]
  },
  {
   "cell_type": "code",
   "execution_count": 225,
   "id": "indie-gallery",
   "metadata": {
    "ExecuteTime": {
     "end_time": "2021-03-08T22:51:40.670435Z",
     "start_time": "2021-03-08T22:51:40.656433Z"
    }
   },
   "outputs": [
    {
     "data": {
      "application/vnd.jupyter.widget-view+json": {
       "model_id": "54666efd62da4051a84a2c61763fac78",
       "version_major": 2,
       "version_minor": 0
      },
      "text/plain": [
       "HBox(children=(IntSlider(value=2018, description='Start Year:', max=2020, min=2013, style=SliderStyle(descript…"
      ]
     },
     "metadata": {},
     "output_type": "display_data"
    }
   ],
   "source": [
    "years_box = widgets.HBox([start_year, end_year])\n",
    "years_box"
   ]
  },
  {
   "cell_type": "code",
   "execution_count": 226,
   "id": "acoustic-heath",
   "metadata": {
    "ExecuteTime": {
     "end_time": "2021-03-08T22:51:40.685937Z",
     "start_time": "2021-03-08T22:51:40.671934Z"
    }
   },
   "outputs": [
    {
     "data": {
      "application/vnd.jupyter.widget-view+json": {
       "model_id": "38857d08c1534b5f82b1f73faa7f0e49",
       "version_major": 2,
       "version_minor": 0
      },
      "text/plain": [
       "HBox(children=(IntSlider(value=4, description='Start Month:', max=12, min=1, style=SliderStyle(description_wid…"
      ]
     },
     "metadata": {},
     "output_type": "display_data"
    }
   ],
   "source": [
    "months_box = widgets.HBox([start_month, end_month])\n",
    "months_box"
   ]
  },
  {
   "cell_type": "code",
   "execution_count": 227,
   "id": "comic-cannon",
   "metadata": {
    "ExecuteTime": {
     "end_time": "2021-03-08T22:51:40.701443Z",
     "start_time": "2021-03-08T22:51:40.687438Z"
    }
   },
   "outputs": [
    {
     "data": {
      "application/vnd.jupyter.widget-view+json": {
       "model_id": "dbc967bf64dc4ebc8d690272152b8574",
       "version_major": 2,
       "version_minor": 0
      },
      "text/plain": [
       "IntSlider(value=30, description='Cloud % Threshold:', min=1, style=SliderStyle(description_width='initial'))"
      ]
     },
     "metadata": {},
     "output_type": "display_data"
    }
   ],
   "source": [
    "cloud_thresh"
   ]
  },
  {
   "cell_type": "code",
   "execution_count": 228,
   "id": "widespread-montreal",
   "metadata": {
    "ExecuteTime": {
     "end_time": "2021-03-08T22:51:40.716945Z",
     "start_time": "2021-03-08T22:51:40.702943Z"
    },
    "scrolled": true
   },
   "outputs": [],
   "source": [
    "metadata_col = ee.ImageCollection(\"LANDSAT/LC08/C01/T1_SR\").filter(ee.Filter.Or(\n",
    "    ee.Filter.And(ee.Filter.eq('WRS_PATH', 39), ee.Filter.eq('WRS_ROW', 32)))) \\\n",
    ".filter(ee.Filter.calendarRange(start_year.value, end_year.value, 'year')) \\\n",
    ".filter(ee.Filter.calendarRange(start_month.value, end_month.value, 'month'))"
   ]
  },
  {
   "cell_type": "code",
   "execution_count": 229,
   "id": "tough-slope",
   "metadata": {
    "ExecuteTime": {
     "end_time": "2021-03-08T22:51:40.732452Z",
     "start_time": "2021-03-08T22:51:40.718446Z"
    },
    "scrolled": true
   },
   "outputs": [],
   "source": [
    "output = widgets.Output()\n",
    "Clip_Boundary = ee.Geometry.Polygon([[-114.183295, 39.631077], [-114.183295, 41.789335], [-112.699951, 41.789335],\n",
    "                                     [-112.699951, 39.631077]])\n",
    "LS_collection_initial = ee.ImageCollection(\"LANDSAT/LC08/C01/T1_SR\").filter(ee.Filter.Or(\n",
    "    ee.Filter.And(ee.Filter.eq('WRS_PATH', 39),\n",
    "                  ee.Filter.eq('WRS_ROW', 32)),\n",
    "    ee.Filter.And(ee.Filter.eq('WRS_PATH', 39),\n",
    "                  ee.Filter.eq('WRS_ROW', 31)))) \\\n",
    ".filter(ee.Filter.calendarRange(start_year.value, end_year.value, 'year')) \\\n",
    ".filter(ee.Filter.calendarRange(start_month.value, end_month.value, 'month'))\n"
   ]
  },
  {
   "cell_type": "code",
   "execution_count": 230,
   "id": "complimentary-first",
   "metadata": {
    "ExecuteTime": {
     "end_time": "2021-03-08T22:51:40.747791Z",
     "start_time": "2021-03-08T22:51:40.734453Z"
    },
    "scrolled": true
   },
   "outputs": [],
   "source": [
    "low_cloud_col = ee.ImageCollection(\"LANDSAT/LC08/C01/T1_SR\").filter(ee.Filter.Or(\n",
    "    ee.Filter.And(ee.Filter.eq('WRS_PATH', 39),\n",
    "                  ee.Filter.eq('WRS_ROW', 31)))).filter(ee.Filter.calendarRange(start_year.value, end_year.value, 'year')) \\\n",
    ".filter(ee.Filter.calendarRange(start_month.value, end_month.value, 'month')) \\\n",
    ".filter(ee.Filter.lt('CLOUD_COVER', cloud_thresh.value)).filter(ee.Filter.gt('CLOUD_COVER', 0))\n",
    "\n",
    "low_cloud_col_list = low_cloud_col.toList(low_cloud_col.size())\n",
    "\n",
    "def imagedate(image):\n",
    "    datelist = ee.Image(image).date().format(\"YYYY-MM-dd\")\n",
    "    return datelist\n",
    "\n",
    "low_cloud_dates = low_cloud_col_list.map(imagedate).distinct().sort()"
   ]
  },
  {
   "cell_type": "code",
   "execution_count": 231,
   "id": "accurate-theory",
   "metadata": {
    "ExecuteTime": {
     "end_time": "2021-03-08T22:51:40.763150Z",
     "start_time": "2021-03-08T22:51:40.749792Z"
    },
    "scrolled": true
   },
   "outputs": [],
   "source": [
    "##BEST METHOD FOR MOSAICING BY DATE, MAKES IMAGE ID THE DATE OF IMAGE ACQUISITION\n",
    "def clp(image):\n",
    "    clipped = image.clip(Clip_Boundary)\n",
    "    return clipped ##Function for clipping the collection to the boundary\n",
    "\n",
    "def mosaicByDate(imcol):\n",
    "    imlist = imcol.toList(imcol.size())\n",
    "    \n",
    "    def imdate(im):\n",
    "        return ee.Image(im).date().format(\"YYYY-MM-dd\")\n",
    "    \n",
    "    unique_dates = imlist.map(imdate).distinct()\n",
    "    \n",
    "    def dater(d):\n",
    "        d = ee.Date(d)\n",
    "        im = imcol.filterDate(d, d.advance(1, \"day\")).mosaic()\n",
    "        return im.set(\"system:time_start\", d.millis(), \n",
    "        \"system:id\", d.format(\"YYYY-MM-dd\"))\n",
    "    \n",
    "    mosaic_imlist = unique_dates.map(dater)\n",
    "    \n",
    "    return ee.ImageCollection(mosaic_imlist)\n",
    "\n",
    "LS_collection = mosaicByDate(LS_collection_initial)"
   ]
  },
  {
   "cell_type": "code",
   "execution_count": 232,
   "id": "democratic-toddler",
   "metadata": {
    "ExecuteTime": {
     "end_time": "2021-03-08T22:51:40.778656Z",
     "start_time": "2021-03-08T22:51:40.764651Z"
    },
    "scrolled": true
   },
   "outputs": [],
   "source": [
    "seq = ee.List.sequence(0, LS_collection.size().subtract(1))\n",
    "\n",
    "def copyProps(index):\n",
    "    source = ee.Image(metadata_col.toList(metadata_col.size()).get(index))\n",
    "    dest = ee.Image(LS_collection.toList(LS_collection.size()).get(index))\n",
    "    image = ee.Image(dest.copyProperties(source, properties=[\"CLOUD_COVER\", \"CLOUD_COVER_LAND\", \"SENSING_TIME\",\n",
    "                                                             \"LANDSAT_ID\", \"system:time_start\"]))\n",
    "    return image"
   ]
  },
  {
   "cell_type": "code",
   "execution_count": 233,
   "id": "colored-distinction",
   "metadata": {
    "ExecuteTime": {
     "end_time": "2021-03-08T22:51:40.794161Z",
     "start_time": "2021-03-08T22:51:40.780155Z"
    },
    "scrolled": true
   },
   "outputs": [],
   "source": [
    "def simpledate(image):\n",
    "    newtime = image.set('simple_date', ee.Date(image.date()).format('YYYY-MM-dd'))\n",
    "    return newtime"
   ]
  },
  {
   "cell_type": "code",
   "execution_count": 234,
   "id": "identified-interference",
   "metadata": {
    "ExecuteTime": {
     "end_time": "2021-03-08T22:51:40.809664Z",
     "start_time": "2021-03-08T22:51:40.795661Z"
    },
    "scrolled": true
   },
   "outputs": [],
   "source": [
    "LS_collection_metadata = ee.ImageCollection(seq.map(copyProps))\n",
    "LS_collection_simple_dates = LS_collection_metadata.map(simpledate)\n",
    "LS_preindices = LS_collection_simple_dates.filter(ee.Filter.inList(\"simple_date\", low_cloud_dates))"
   ]
  },
  {
   "cell_type": "code",
   "execution_count": 235,
   "id": "still-consideration",
   "metadata": {
    "ExecuteTime": {
     "end_time": "2021-03-08T22:51:40.825172Z",
     "start_time": "2021-03-08T22:51:40.811165Z"
    },
    "scrolled": true
   },
   "outputs": [],
   "source": [
    "def Hal_index(image):\n",
    "    halite = image.expression(\n",
    "    '(1.0*(RED - SWIR1))/(RED + SWIR1)', {\n",
    "        'RED': image.select('B4'),\n",
    "        'SWIR1': image.select('B6')\n",
    "    })\n",
    "    return halite\n",
    "\n",
    "def h_band_rename(image):\n",
    "    hband = image.select('constant').rename('h_index')\n",
    "    return hband\n",
    "\n",
    "\n",
    "halite_bands = LS_preindices.map(Hal_index).map(h_band_rename)"
   ]
  },
  {
   "cell_type": "code",
   "execution_count": 236,
   "id": "thick-microphone",
   "metadata": {
    "ExecuteTime": {
     "end_time": "2021-03-08T22:51:40.840324Z",
     "start_time": "2021-03-08T22:51:40.826672Z"
    },
    "scrolled": true
   },
   "outputs": [],
   "source": [
    "def Gyp_index(image):\n",
    "    gypsum = image.expression(\n",
    "    '1.0*(SWIR1-SWIR2)', {\n",
    "        'SWIR1': image.select('B6'),\n",
    "        'SWIR2': image.select('B7')\n",
    "    })\n",
    "    return gypsum\n",
    "\n",
    "def g_band_rename(image):\n",
    "    gband = image.select('constant').rename('g_index')\n",
    "    return gband\n",
    "\n",
    "gypsum_bands = LS_preindices.map(Gyp_index).map(g_band_rename)"
   ]
  },
  {
   "cell_type": "code",
   "execution_count": 237,
   "id": "pregnant-mailing",
   "metadata": {
    "ExecuteTime": {
     "end_time": "2021-03-08T22:51:40.855931Z",
     "start_time": "2021-03-08T22:51:40.841682Z"
    },
    "scrolled": true
   },
   "outputs": [],
   "source": [
    "def Carb_index(image):\n",
    "    carbonates = image.expression(\n",
    "    '(1.0*(1-(NIR-SWIR1))-(SWIR1-SWIR2)-RED-SWIR2)', {\n",
    "        'RED': image.select('B4'),\n",
    "        'NIR': image.select('B5'),\n",
    "        'SWIR1': image.select('B6'),\n",
    "        'SWIR2': image.select('B7')\n",
    "    })\n",
    "    return carbonates\n",
    "\n",
    "def c_band_rename(image):\n",
    "    cband = image.select('constant').rename('c_index')\n",
    "    return cband\n",
    "\n",
    "carbonate_bands = LS_preindices.map(Carb_index).map(c_band_rename)"
   ]
  },
  {
   "cell_type": "code",
   "execution_count": 238,
   "id": "appropriate-stream",
   "metadata": {
    "ExecuteTime": {
     "end_time": "2021-03-08T22:51:40.871387Z",
     "start_time": "2021-03-08T22:51:40.857432Z"
    },
    "scrolled": true
   },
   "outputs": [],
   "source": [
    "##Combine indices with LS collection\n",
    "com = LS_preindices.combine(halite_bands).combine(gypsum_bands).combine(carbonate_bands)\n",
    "##print(com.aggregate_array('simple_date').sort().getInfo())"
   ]
  },
  {
   "cell_type": "code",
   "execution_count": 239,
   "id": "spectacular-fifth",
   "metadata": {
    "ExecuteTime": {
     "end_time": "2021-03-08T22:51:40.886890Z",
     "start_time": "2021-03-08T22:51:40.872887Z"
    },
    "scrolled": true
   },
   "outputs": [],
   "source": [
    "video_args = {\n",
    "  'dimensions': 768,\n",
    "  'region': Clip_Boundary,\n",
    "  'framesPerSecond': 2,\n",
    "    'bands': ['h_index', 'g_index', 'c_index'],\n",
    "    'min': [0, 500, -12000],\n",
    "    'max': [1.0, 2500, -3500],\n",
    "    'crs': 'EPSG:3857'\n",
    "}"
   ]
  },
  {
   "cell_type": "code",
   "execution_count": 240,
   "id": "dependent-driver",
   "metadata": {
    "ExecuteTime": {
     "end_time": "2021-03-08T22:51:40.902117Z",
     "start_time": "2021-03-08T22:51:40.888391Z"
    },
    "scrolled": true
   },
   "outputs": [],
   "source": [
    "work_dir = os.path.join(os.path.expanduser(\"~\"), 'Downloads')\n",
    "plain_gif_title = 'BB_Radwin_2021_indices_timelapse.gif'\n",
    "out_gif = os.path.join(work_dir, plain_gif_title)"
   ]
  },
  {
   "cell_type": "code",
   "execution_count": 241,
   "id": "everyday-ratio",
   "metadata": {
    "ExecuteTime": {
     "end_time": "2021-03-08T22:52:33.647775Z",
     "start_time": "2021-03-08T22:51:40.903618Z"
    }
   },
   "outputs": [
    {
     "name": "stdout",
     "output_type": "stream",
     "text": [
      "Generating URL...\n",
      "Downloading GIF image from https://earthengine.googleapis.com/v1alpha/projects/earthengine-legacy/videoThumbnails/40ef4ce048081ac800267d3f3809ea77-3e5802209fe14d15346c6aec8da2bf10:getPixels\n",
      "Please wait ...\n",
      "The GIF image has been saved to: C:\\Users\\Mark Radwin\\Downloads\\BB_Radwin_2021_indices_timelapse.gif\n"
     ]
    }
   ],
   "source": [
    "##Create gif\n",
    "geemap.download_ee_video(com, video_args, out_gif)"
   ]
  },
  {
   "cell_type": "code",
   "execution_count": 242,
   "id": "august-christian",
   "metadata": {
    "ExecuteTime": {
     "end_time": "2021-03-08T22:53:13.397318Z",
     "start_time": "2021-03-08T22:52:33.648775Z"
    },
    "scrolled": true
   },
   "outputs": [],
   "source": [
    "##Make list of years from original LS collection for use in animations\n",
    "def ymdList(col):\n",
    "    def iter_func(image, newlist):\n",
    "        date = image.date().format(\"YYYY-MM-dd\");\n",
    "        ##date = ee.Number.parse(image.date().format(\"YYYYMMdd\"));\n",
    "        newlist = ee.List(newlist);\n",
    "        return ee.List(newlist.add(date).sort())\n",
    "    ymd = col.iterate(iter_func, ee.List([]))\n",
    "    return list(ee.List(ymd).reduce(ee.Reducer.frequencyHistogram()).getInfo().keys())\n",
    "datess = ymdList(LS_preindices)\n",
    "##print(datess)"
   ]
  },
  {
   "cell_type": "code",
   "execution_count": 243,
   "id": "forty-genesis",
   "metadata": {
    "ExecuteTime": {
     "end_time": "2021-03-08T22:53:14.916586Z",
     "start_time": "2021-03-08T22:53:13.398818Z"
    },
    "scrolled": false
   },
   "outputs": [
    {
     "data": {
      "application/vnd.jupyter.widget-view+json": {
       "model_id": "3b958d87beb4420985c612b2c8108782",
       "version_major": 2,
       "version_minor": 0
      },
      "text/plain": [
       "Output()"
      ]
     },
     "metadata": {},
     "output_type": "display_data"
    }
   ],
   "source": [
    "##Add text to gif\n",
    "annotated_gif_title = 'BB_Radwin_2021_indices_annotated_timelapse.gif'\n",
    "texted_gif = os.path.join(work_dir, annotated_gif_title)\n",
    "\n",
    "geemap.add_text_to_gif(out_gif, texted_gif, duration=500, \n",
    "                       xy=('2%', '2%'), text_sequence=datess, font_size=30, font_color='#ffffff')\n",
    "\n",
    "label = 'Surface Changes in the \\\n",
    "Bonneville Basin'\n",
    "\n",
    "geemap.add_text_to_gif(texted_gif, texted_gif, duration=500, \n",
    "                       xy=('2%', '94%'), text_sequence=label, font_size=20, font_color='#ffffff', progress_bar_color='white')\n",
    "\n",
    "\n",
    "geemap.show_image(texted_gif)"
   ]
  },
  {
   "cell_type": "code",
   "execution_count": null,
   "id": "aggregate-arrest",
   "metadata": {
    "scrolled": true
   },
   "outputs": [],
   "source": []
  }
 ],
 "metadata": {
  "hide_input": true,
  "kernelspec": {
   "display_name": "Python 3",
   "language": "python",
   "name": "python3"
  },
  "language_info": {
   "codemirror_mode": {
    "name": "ipython",
    "version": 3
   },
   "file_extension": ".py",
   "mimetype": "text/x-python",
   "name": "python",
   "nbconvert_exporter": "python",
   "pygments_lexer": "ipython3",
   "version": "3.9.1"
  }
 },
 "nbformat": 4,
 "nbformat_minor": 5
}
